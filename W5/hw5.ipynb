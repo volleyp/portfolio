{
 "cells": [
  {
   "cell_type": "markdown",
   "id": "046eaaad",
   "metadata": {},
   "source": [
    "# SQL\n",
    "\n",
    "First we are going to establish a aconnection to the sql data base **user_action.db**. a connection in our case is a communication link between a Python program and a database server. When we are connecting to a database using the **sqlite3** module we are establishing a connection to the database server. This connection allows you to send SQL queries to the database and retrieve the results. We are opening and closing the connection. The reason for closing the connection after we are done using it is to free up resources.\n",
    "\n",
    "\n",
    "Note that the code will be written in SQL but for displaying the dataframes we will read the SQL querys using pandas."
   ]
  },
  {
   "cell_type": "code",
   "execution_count": 1,
   "id": "8e31c7cf",
   "metadata": {},
   "outputs": [],
   "source": [
    "import sqlite3 as sql\n",
    "import pandas as pd\n",
    "import numpy as np\n"
   ]
  },
  {
   "cell_type": "code",
   "execution_count": 2,
   "id": "f30c499c",
   "metadata": {},
   "outputs": [],
   "source": [
    "database = 'user_actions.db'\n",
    "\n",
    "connection = sql.connect(database) #establish connection\n",
    "\n",
    "query = \"SELECT * FROM user_actions;\" #creating a query\n",
    "\n",
    "df = pd.read_sql_query(query, connection) #reading query using pandas\n",
    " \n",
    "connection.close() #closing connection\n"
   ]
  },
  {
   "cell_type": "code",
   "execution_count": 3,
   "id": "3499980b",
   "metadata": {},
   "outputs": [
    {
     "data": {
      "text/html": [
       "<div>\n",
       "<style scoped>\n",
       "    .dataframe tbody tr th:only-of-type {\n",
       "        vertical-align: middle;\n",
       "    }\n",
       "\n",
       "    .dataframe tbody tr th {\n",
       "        vertical-align: top;\n",
       "    }\n",
       "\n",
       "    .dataframe thead th {\n",
       "        text-align: right;\n",
       "    }\n",
       "</style>\n",
       "<table border=\"1\" class=\"dataframe\">\n",
       "  <thead>\n",
       "    <tr style=\"text-align: right;\">\n",
       "      <th></th>\n",
       "      <th>user_id</th>\n",
       "      <th>username</th>\n",
       "      <th>email</th>\n",
       "      <th>action</th>\n",
       "      <th>timestamp</th>\n",
       "    </tr>\n",
       "  </thead>\n",
       "  <tbody>\n",
       "    <tr>\n",
       "      <th>0</th>\n",
       "      <td>34</td>\n",
       "      <td>user34</td>\n",
       "      <td>user34@email.com</td>\n",
       "      <td>signup</td>\n",
       "      <td>2015-02-04 14:38:47</td>\n",
       "    </tr>\n",
       "    <tr>\n",
       "      <th>1</th>\n",
       "      <td>28</td>\n",
       "      <td>user28</td>\n",
       "      <td>user28@email.com</td>\n",
       "      <td>signup</td>\n",
       "      <td>2015-03-09 11:55:33</td>\n",
       "    </tr>\n",
       "    <tr>\n",
       "      <th>2</th>\n",
       "      <td>27</td>\n",
       "      <td>user27</td>\n",
       "      <td>user27@email.com</td>\n",
       "      <td>login</td>\n",
       "      <td>2015-04-17 14:48:31</td>\n",
       "    </tr>\n",
       "    <tr>\n",
       "      <th>3</th>\n",
       "      <td>27</td>\n",
       "      <td>user27</td>\n",
       "      <td>user27@email.com</td>\n",
       "      <td>login</td>\n",
       "      <td>2015-04-21 13:22:14</td>\n",
       "    </tr>\n",
       "    <tr>\n",
       "      <th>4</th>\n",
       "      <td>27</td>\n",
       "      <td>user27</td>\n",
       "      <td>user27@email.com</td>\n",
       "      <td>reset_password</td>\n",
       "      <td>2015-04-25 16:30:15</td>\n",
       "    </tr>\n",
       "  </tbody>\n",
       "</table>\n",
       "</div>"
      ],
      "text/plain": [
       "   user_id username             email          action            timestamp\n",
       "0       34   user34  user34@email.com          signup  2015-02-04 14:38:47\n",
       "1       28   user28  user28@email.com          signup  2015-03-09 11:55:33\n",
       "2       27   user27  user27@email.com           login  2015-04-17 14:48:31\n",
       "3       27   user27  user27@email.com           login  2015-04-21 13:22:14\n",
       "4       27   user27  user27@email.com  reset_password  2015-04-25 16:30:15"
      ]
     },
     "execution_count": 3,
     "metadata": {},
     "output_type": "execute_result"
    }
   ],
   "source": [
    "\n",
    "pd.set_option('display.max_rows', None) #analyze the data briefly\n",
    "df.head()"
   ]
  },
  {
   "cell_type": "markdown",
   "id": "ae07e0ec",
   "metadata": {},
   "source": [
    "## Task 1\n",
    "\n",
    "Now we want to retrieve the usernames of all users who have performed the \"signup\" action."
   ]
  },
  {
   "cell_type": "code",
   "execution_count": 4,
   "id": "2418c868",
   "metadata": {},
   "outputs": [],
   "source": [
    "connection = sql.connect('user_actions.db') #open the connection\n",
    "\n",
    "query = \"SELECT username FROM user_actions WHERE action = 'signup'\" # sql query to retrieve usernames for signup \n",
    "\n",
    "users_signup = connection.execute(query).fetchall() #interactiong adn retrieveng the data based on the query\n",
    "\n",
    "connection.close() #close the connection\n"
   ]
  },
  {
   "cell_type": "code",
   "execution_count": 5,
   "id": "9cec288d",
   "metadata": {},
   "outputs": [
    {
     "name": "stdout",
     "output_type": "stream",
     "text": [
      "usersthat signed up:  [('user34',), ('user28',), ('user1',), ('user24',), ('user15',), ('user20',), ('user18',), ('user25',), ('user3',), ('user9',), ('user27',), ('user16',), ('user17',), ('user4',), ('user8',), ('user13',), ('user19',), ('user31',), ('user10',), ('user23',), ('user11',), ('user33',), ('user12',), ('user29',), ('user21',), ('user6',), ('user14',), ('user30',), ('user7',), ('user26',), ('user22',), ('user5',), ('user35',), ('user2',), ('user32',)]\n"
     ]
    }
   ],
   "source": [
    "print(\"usersthat signed up: \", users_signup)"
   ]
  },
  {
   "cell_type": "markdown",
   "id": "c7e89fca",
   "metadata": {},
   "source": [
    "## Task 2\n",
    "\n",
    "Let us now find the total number of log entries for each user. Display the user_id, username, and the count of log entries.\n",
    "Log entries are some kind of activity that a user does. In our case we have **login, signup, reset_password**. So we want to find the total numbers of such activities for each user. Lets do that using SQL.\n",
    "\n",
    "We will use \"SELECT\" for the user_id and username with function COUNT(*) AS log_entry_count FROM user_actions.\n",
    "This will count the number of each combination of log_entries for each user. We will then use GROUP BY to simply group the data by the columns that we spesify. We will then have a new datatable with userid, username, total number of log entrys."
   ]
  },
  {
   "cell_type": "code",
   "execution_count": 6,
   "id": "0795d913",
   "metadata": {},
   "outputs": [
    {
     "name": "stdout",
     "output_type": "stream",
     "text": [
      "(1, 'user1', 104)\n",
      "(2, 'user2', 149)\n",
      "(3, 'user3', 108)\n",
      "(4, 'user4', 436)\n",
      "(5, 'user5', 192)\n",
      "(6, 'user6', 457)\n",
      "(7, 'user7', 362)\n",
      "(8, 'user8', 329)\n",
      "(9, 'user9', 118)\n",
      "(10, 'user10', 170)\n",
      "(11, 'user11', 328)\n",
      "(12, 'user12', 209)\n",
      "(13, 'user13', 470)\n",
      "(14, 'user14', 320)\n",
      "(15, 'user15', 35)\n",
      "(16, 'user16', 379)\n",
      "(17, 'user17', 367)\n",
      "(18, 'user18', 122)\n",
      "(19, 'user19', 58)\n",
      "(20, 'user20', 362)\n",
      "(21, 'user21', 323)\n",
      "(22, 'user22', 275)\n",
      "(23, 'user23', 309)\n",
      "(24, 'user24', 162)\n",
      "(25, 'user25', 136)\n",
      "(26, 'user26', 217)\n",
      "(27, 'user27', 211)\n",
      "(28, 'user28', 91)\n",
      "(29, 'user29', 49)\n",
      "(30, 'user30', 165)\n",
      "(31, 'user31', 389)\n",
      "(32, 'user32', 32)\n",
      "(33, 'user33', 32)\n",
      "(34, 'user34', 180)\n",
      "(35, 'user35', 394)\n"
     ]
    }
   ],
   "source": [
    "connection = sql.connect('user_actions.db')\n",
    "\n",
    "# Once again create a query based on our conditions\n",
    "query = \"\"\"\n",
    "    SELECT user_id, username, COUNT(*) AS log_entry_count\n",
    "    FROM user_actions\n",
    "    GROUP BY user_id, username;\n",
    "\"\"\"\n",
    "results = connection.execute(query).fetchall()\n",
    "df_log_entrys = pd.read_sql_query(query, connection)\n",
    "# Display the results\n",
    "for row in results:\n",
    "    print(row)\n",
    "\n",
    "# Close the connection\n",
    "connection.close()"
   ]
  },
  {
   "cell_type": "code",
   "execution_count": null,
   "id": "c9803f6d",
   "metadata": {},
   "outputs": [],
   "source": []
  },
  {
   "cell_type": "markdown",
   "id": "1dc3fbd5",
   "metadata": {},
   "source": [
    "## Task 3\n",
    "\n",
    "Now, our goal is to identify users who have both logged in (action = 'login') and signed up (action = 'signup') on the same day. Display the user_id and username. To approach this we will use a self join where we will filter so that we will only choose those members whose dates match."
   ]
  },
  {
   "cell_type": "code",
   "execution_count": 7,
   "id": "cfd07fae",
   "metadata": {},
   "outputs": [],
   "source": [
    "connection = sql.connect('user_actions.db') # connect\n",
    "\n",
    "\n",
    "\n",
    "#Here we define the query based on conditionsin hte task\n",
    "query = \"\"\"SELECT a.user_id, a.username FROM user_actions a \n",
    "JOIN user_actions b ON a.user_id = b.user_id\n",
    "    WHERE a.action = 'login' AND b.action = 'signup' AND DATE(a.timestamp) = DATE(b.timestamp);\"\"\"\n",
    "\n",
    "df2 = pd.read_sql_query(query, connection) #display the query\n",
    "\n",
    "\n",
    "# Close the connection\n",
    "connection.close()"
   ]
  },
  {
   "cell_type": "code",
   "execution_count": 8,
   "id": "3daecdcf",
   "metadata": {},
   "outputs": [
    {
     "data": {
      "text/html": [
       "<div>\n",
       "<style scoped>\n",
       "    .dataframe tbody tr th:only-of-type {\n",
       "        vertical-align: middle;\n",
       "    }\n",
       "\n",
       "    .dataframe tbody tr th {\n",
       "        vertical-align: top;\n",
       "    }\n",
       "\n",
       "    .dataframe thead th {\n",
       "        text-align: right;\n",
       "    }\n",
       "</style>\n",
       "<table border=\"1\" class=\"dataframe\">\n",
       "  <thead>\n",
       "    <tr style=\"text-align: right;\">\n",
       "      <th></th>\n",
       "      <th>user_id</th>\n",
       "      <th>username</th>\n",
       "    </tr>\n",
       "  </thead>\n",
       "  <tbody>\n",
       "    <tr>\n",
       "      <th>0</th>\n",
       "      <td>8</td>\n",
       "      <td>user8</td>\n",
       "    </tr>\n",
       "    <tr>\n",
       "      <th>1</th>\n",
       "      <td>12</td>\n",
       "      <td>user12</td>\n",
       "    </tr>\n",
       "    <tr>\n",
       "      <th>2</th>\n",
       "      <td>30</td>\n",
       "      <td>user30</td>\n",
       "    </tr>\n",
       "    <tr>\n",
       "      <th>3</th>\n",
       "      <td>7</td>\n",
       "      <td>user7</td>\n",
       "    </tr>\n",
       "    <tr>\n",
       "      <th>4</th>\n",
       "      <td>22</td>\n",
       "      <td>user22</td>\n",
       "    </tr>\n",
       "    <tr>\n",
       "      <th>5</th>\n",
       "      <td>22</td>\n",
       "      <td>user22</td>\n",
       "    </tr>\n",
       "    <tr>\n",
       "      <th>6</th>\n",
       "      <td>5</td>\n",
       "      <td>user5</td>\n",
       "    </tr>\n",
       "    <tr>\n",
       "      <th>7</th>\n",
       "      <td>5</td>\n",
       "      <td>user5</td>\n",
       "    </tr>\n",
       "    <tr>\n",
       "      <th>8</th>\n",
       "      <td>2</td>\n",
       "      <td>user2</td>\n",
       "    </tr>\n",
       "    <tr>\n",
       "      <th>9</th>\n",
       "      <td>32</td>\n",
       "      <td>user32</td>\n",
       "    </tr>\n",
       "  </tbody>\n",
       "</table>\n",
       "</div>"
      ],
      "text/plain": [
       "   user_id username\n",
       "0        8    user8\n",
       "1       12   user12\n",
       "2       30   user30\n",
       "3        7    user7\n",
       "4       22   user22\n",
       "5       22   user22\n",
       "6        5    user5\n",
       "7        5    user5\n",
       "8        2    user2\n",
       "9       32   user32"
      ]
     },
     "execution_count": 8,
     "metadata": {},
     "output_type": "execute_result"
    }
   ],
   "source": [
    "df2"
   ]
  },
  {
   "cell_type": "markdown",
   "id": "7ca8d8c1",
   "metadata": {},
   "source": [
    "# Regex\n",
    "\n",
    "The file comments.txt in the data repo contains lines of text, each representing a user comment. Users sometimes include tags in their comments using the format \"#tag\". Analyse the file and solve the following tasks."
   ]
  },
  {
   "cell_type": "markdown",
   "id": "0e1ac58e",
   "metadata": {},
   "source": [
    "## Task 1\n",
    "\n",
    "Write a regular expression to extract all hashtags from a given comment. For example, applying the regex to comment 1 should return [\"#programming\", \"#tips\"]. Let us first import the textfile and read the lines as **comments** . We will then be able to access a given comment by **comment[n]** for n = 0,1,...,n+1 which will give us comment 1,2,...,n. We will then search for words that contians a hashtag that is followed by any word. For that we will use **findall** function which will give us all the substrings that contains certain pattern ( in our case the regular expression **r'#\\w+'**) which means that we looking for a hashtag followed by any word with any letter size. Lets write our code and try apply it to the first comment."
   ]
  },
  {
   "cell_type": "code",
   "execution_count": 9,
   "id": "2f412a86",
   "metadata": {},
   "outputs": [],
   "source": [
    "import re"
   ]
  },
  {
   "cell_type": "code",
   "execution_count": 10,
   "id": "336cab2e",
   "metadata": {},
   "outputs": [
    {
     "data": {
      "text/plain": [
       "['#programming', '#tips']"
      ]
     },
     "execution_count": 10,
     "metadata": {},
     "output_type": "execute_result"
    }
   ],
   "source": [
    "with open('comments.txt', 'r') as t:\n",
    "    comments = t.readlines() # comments stores all the lines from the textfile\n",
    "hashtags = re.findall(r'#\\w+', comments[0]) # comments[n] for n = 0,1,2,..n+1 is comment 1,2,...,n \n",
    "\n",
    "hashtags\n"
   ]
  },
  {
   "cell_type": "markdown",
   "id": "a2db6994",
   "metadata": {},
   "source": [
    "## Task 2\n",
    "\n",
    "Create a regular expression to find comments that mention both \"#programming\" and \"#python\". Apply the regex to comment 2 and check if it matches. \n",
    "\n",
    "We want to first create a regex object with **re.compile** . The pattern here will be #programming followed by any word and then #python or vice versa. The advantage of using compile is that we maybe want to use the same pattern several times ( for different comments for instance). We want then to search for this regex object that we created , for that we will use the **search** function. Lastly we will check if it match or dont match "
   ]
  },
  {
   "cell_type": "code",
   "execution_count": 11,
   "id": "402adc38",
   "metadata": {},
   "outputs": [
    {
     "name": "stdout",
     "output_type": "stream",
     "text": [
      "Dont match\n"
     ]
    }
   ],
   "source": [
    "comment_2 = comments[1] #creating a second comment \n",
    "expression = re.compile(r'#programming.*#python|#python.*#programming') #creating the regex with desired condition\n",
    "match_or_not = expression.search(comment_2) # searching for the regesx that we created\n",
    "\n",
    "if match_or_not:\n",
    "    print(\"Match\")\n",
    "else:\n",
    "    print(\"Dont match\")"
   ]
  },
  {
   "cell_type": "markdown",
   "id": "50e91e5d",
   "metadata": {},
   "source": []
  },
  {
   "cell_type": "markdown",
   "id": "b43c7087",
   "metadata": {},
   "source": [
    "We can now use the same function for checking some other comment just to see that it works properly. From the all comments\n",
    "we could see that comment 6 indeed had both \"programming\" and \"python\" in it. So our function is supposed to give us a match.\n",
    "Lets test that."
   ]
  },
  {
   "cell_type": "code",
   "execution_count": 12,
   "id": "2ce8bd1b",
   "metadata": {},
   "outputs": [
    {
     "name": "stdout",
     "output_type": "stream",
     "text": [
      "Match\n"
     ]
    }
   ],
   "source": [
    "comment_6 = comments[5]\n",
    "match_or_not = expression.search(comment_6)\n",
    "\n",
    "if match_or_not:\n",
    "    print(\"Match\")\n",
    "else:\n",
    "    print(\"Dont match\")"
   ]
  },
  {
   "cell_type": "markdown",
   "id": "162564c3",
   "metadata": {},
   "source": [
    "# Task 3\n",
    "\n",
    "Using your regular expression, extract all unique hashtags from the entire text file. (*)\n",
    "\n",
    "Now the logic in this task will be following. We will first write a regulate expression  for finding hashtags. We will then creaty an empty list and for each hashtag in the data we will append that list with one. After that we will filter the list in such a way so that it doesnt cointains duplicates. In that way we will get all the unique hashtags."
   ]
  },
  {
   "cell_type": "code",
   "execution_count": 13,
   "id": "1f0eb050",
   "metadata": {},
   "outputs": [
    {
     "name": "stdout",
     "output_type": "stream",
     "text": [
      "{'#tech', '#research', '#python', '#analysis', '#data', '#innovation', '#tips', '#analytics', '#coding', '#insights', '#programming'}\n"
     ]
    }
   ],
   "source": [
    "expression2 = re.compile(r'#\\w+') #we compile hashtag followed by a word\n",
    "\n",
    "\n",
    "all_hashtags = [] #create a list where we will store the hashtags\n",
    "\n",
    "for comment in comments: # for each comment in comments\n",
    "    hashtags = expression2.findall(comment) # apply our regEx and find them all :D\n",
    "    all_hashtags.extend(hashtags) #Appends every hashtag to the all_hashtags list\n",
    "\n",
    "unique_hashtags = set(all_hashtags) #Remove duplicated\n",
    "\n",
    "print(unique_hashtags) # print"
   ]
  },
  {
   "cell_type": "code",
   "execution_count": 14,
   "id": "b7ef7876",
   "metadata": {},
   "outputs": [
    {
     "name": "stderr",
     "output_type": "stream",
     "text": [
      "[NbConvertApp] Converting notebook hw5.ipynb to markdown\n",
      "[NbConvertApp] Writing 9587 bytes to hw5.md\n"
     ]
    }
   ],
   "source": [
    "!jupyter nbconvert --to markdown hw5.ipynb"
   ]
  },
  {
   "cell_type": "code",
   "execution_count": null,
   "id": "e6dd4ada",
   "metadata": {},
   "outputs": [],
   "source": []
  }
 ],
 "metadata": {
  "kernelspec": {
   "display_name": "Python 3 (ipykernel)",
   "language": "python",
   "name": "python3"
  },
  "language_info": {
   "codemirror_mode": {
    "name": "ipython",
    "version": 3
   },
   "file_extension": ".py",
   "mimetype": "text/x-python",
   "name": "python",
   "nbconvert_exporter": "python",
   "pygments_lexer": "ipython3",
   "version": "3.10.9"
  }
 },
 "nbformat": 4,
 "nbformat_minor": 5
}
