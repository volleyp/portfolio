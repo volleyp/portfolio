{
 "cells": [
  {
   "cell_type": "code",
   "execution_count": null,
   "id": "a00c3879",
   "metadata": {},
   "outputs": [],
   "source": [
    "import pandas as pd\n",
    "import numpy as np\n",
    "\n",
    "\n",
    "data1 = pd.read_csv(\"Booli_sold.csv\")"
   ]
  },
  {
   "cell_type": "code",
   "execution_count": null,
   "id": "fb7190d9",
   "metadata": {},
   "outputs": [],
   "source": [
    "data1.head()\n"
   ]
  },
  {
   "cell_type": "markdown",
   "id": "f91cbdd2",
   "metadata": {},
   "source": [
    "### Apartment Prices\n",
    "\n",
    "the ppsqm is **soldPrice / livingArea**  \n",
    "We want then to add the new **ppsqm** column to the original table  ."
   ]
  },
  {
   "cell_type": "code",
   "execution_count": null,
   "id": "6cae6626",
   "metadata": {},
   "outputs": [],
   "source": [
    "squareMeters = data1.loc[:, \"livingArea\"] #select all rows : and a specific column \"livingArea\"\n",
    "\n",
    "soldPrice = data1.loc[:, \"listPrice\"] #select all rows : and a specific column \"soldPrice\"\n",
    "\n",
    "ppsqm = round(soldPrice / squareMeters) #Round the number to the nearest integer\n",
    "\n",
    "data1[\"ppsqm\"] = ppsqm #Adding the new columnt to the original data set"
   ]
  },
  {
   "cell_type": "code",
   "execution_count": null,
   "id": "fb0585b6",
   "metadata": {
    "scrolled": true
   },
   "outputs": [],
   "source": [
    "data1.head()"
   ]
  },
  {
   "cell_type": "markdown",
   "id": "8fb13c3c",
   "metadata": {},
   "source": [
    "Now the goal is to rank top 5 most expensive apartments w.r.t ppsqm. We want to sort the **ppsqm** by price and then see the 5 top candidates. Lets do that with the **sort** function and then print the head of our dataframe so that we can see top 5 candidates wrt ppsqm.\n",
    "\n"
   ]
  },
  {
   "cell_type": "code",
   "execution_count": null,
   "id": "1f68e7c4",
   "metadata": {},
   "outputs": [],
   "source": [
    "table_sorted_by_ppsqm = data1.sort_values(\"ppsqm\", ascending=False) \n",
    "table_sorted_by_ppsqm.head()"
   ]
  },
  {
   "cell_type": "markdown",
   "id": "774e23cd",
   "metadata": {},
   "source": [
    "Now let us calculate the average ppsqm in Ekhagen. For this purpose we can just calculate the mean of the **ppsqw**. Note that the np.mean - function automatically ignores the missing values of ppsqw vector."
   ]
  },
  {
   "cell_type": "code",
   "execution_count": null,
   "id": "64b14a60",
   "metadata": {},
   "outputs": [],
   "source": [
    "ekhagen_mean = round(np.mean(ppsqm))\n",
    "\n",
    "print(\"The average ppsqm in Ekhagen is: \" , ekhagen_mean )"
   ]
  },
  {
   "cell_type": "markdown",
   "id": "2bcb0ca8",
   "metadata": {},
   "source": [
    "What i find interesting about the data is that some values for the living area are missing which will naturally lead to that some values of the ppsqw will be missing ( by a trivial reasons). However when calculating the mean of ppsqw we were able to preserve the sample size."
   ]
  },
  {
   "cell_type": "markdown",
   "id": "4bcf4ea4",
   "metadata": {},
   "source": [
    "### The Swedish Election of 2018"
   ]
  },
  {
   "cell_type": "markdown",
   "id": "9fb0ba70",
   "metadata": {},
   "source": [
    "Calculate the total number of legitimate votes (Giltiga Röster) in Stockholm during the election. That is, sum upp the number of legitimate votes for all municipalities (kommun) in Stockholm."
   ]
  },
  {
   "cell_type": "code",
   "execution_count": null,
   "id": "981d68c7",
   "metadata": {},
   "outputs": [],
   "source": [
    "data2 = pd.read_csv(\"2018_R_per_kommun.csv\", sep = \";\", decimal =\",\")\n",
    " \n",
    "data2.head()"
   ]
  },
  {
   "cell_type": "markdown",
   "id": "f0764edd",
   "metadata": {},
   "source": [
    "Deriving stockholm and legit votes"
   ]
  },
  {
   "cell_type": "code",
   "execution_count": null,
   "id": "888fe922",
   "metadata": {},
   "outputs": [],
   "source": [
    "votes = data2.loc[:, [\"LÄNSNAMN\", \"RÖSTER GILTIGA\"]]\n",
    "\n",
    "filtered_votes = votes[votes[\"LÄNSNAMN\"].str.contains(\"Stockholms län\", case=False, na=False)]\n",
    "\n",
    "legit_votes_in_stockholm = filtered_votes.loc[:,\"RÖSTER GILTIGA\"]\n",
    "\n",
    "legit_votes_in_stockholm_sum = sum(legit_votes_in_stockholm)\n",
    "\n",
    "legit_votes_in_stockholm_sum"
   ]
  },
  {
   "cell_type": "markdown",
   "id": "2b0e7d10",
   "metadata": {},
   "source": [
    "In which municipality did the social democratic party (Social demokraterna, S) garner the hightest voting percentage?\n",
    "\n",
    "We can approach this by simply filtering the data in such a way that we only se manucipalitys and precentage that S got. BY later filtering the data some more so that we rearang rows so that the highest ranks first etc we will be able to clearly see the first one. And we can also use almost the exact same approach for calculating the top 3 municipalitys and presenting it in a table after."
   ]
  },
  {
   "cell_type": "code",
   "execution_count": null,
   "id": "a19548c8",
   "metadata": {},
   "outputs": [],
   "source": [
    "s = data2.loc[:, [\"KOMMUNNAMN\",\"S\"]].sort_values(by = \"S\", ascending = False) #sortering and filtering the data\n",
    "\n",
    "s.head()"
   ]
  },
  {
   "cell_type": "code",
   "execution_count": null,
   "id": "6654c4bf",
   "metadata": {},
   "outputs": [],
   "source": [
    "valdeltagande = data2.loc[:, [\"KOMMUNNAMN\", \"VALDELTAGANDE\"]].sort_values(by =\"VALDELTAGANDE\", ascending = False)\n",
    "\n",
    "valdeltagande.head(3)"
   ]
  },
  {
   "cell_type": "code",
   "execution_count": null,
   "id": "ee8ed587",
   "metadata": {},
   "outputs": [],
   "source": [
    "#!jupyter nbconvert --to markdown HW2_new.ipynb"
   ]
  },
  {
   "cell_type": "code",
   "execution_count": null,
   "id": "2bccea18",
   "metadata": {},
   "outputs": [],
   "source": []
  }
 ],
 "metadata": {
  "kernelspec": {
   "display_name": "Python 3 (ipykernel)",
   "language": "python",
   "name": "python3"
  },
  "language_info": {
   "codemirror_mode": {
    "name": "ipython",
    "version": 3
   },
   "file_extension": ".py",
   "mimetype": "text/x-python",
   "name": "python",
   "nbconvert_exporter": "python",
   "pygments_lexer": "ipython3",
   "version": "3.10.9"
  }
 },
 "nbformat": 4,
 "nbformat_minor": 5
}
